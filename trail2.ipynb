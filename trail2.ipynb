{
 "cells": [
  {
   "cell_type": "code",
   "execution_count": 26,
   "id": "9db83518",
   "metadata": {},
   "outputs": [],
   "source": [
    "import scipy.io\n",
    "import pandas as pd\n",
    "import numpy as np"
   ]
  },
  {
   "cell_type": "code",
   "execution_count": 27,
   "id": "de13c04a",
   "metadata": {},
   "outputs": [],
   "source": [
    "#getting train data\n",
    "mat_data = scipy.io.loadmat(r\"C:\\Users\\Dell\\OneDrive\\Desktop\\himi\\btp\\dataverse_files\\purified_cric1\\train.mat\")\n",
    "mat_variable = mat_data['traindata']\n",
    "data_array = np.array(mat_variable)\n",
    "column_names = [f'C{i}' for i in range(1, data_array.shape[1] + 1)]\n",
    "train = pd.DataFrame(data_array, columns=column_names)\n",
    "train.rename(columns={'C10': 'Class_label'},inplace=True)"
   ]
  },
  {
   "cell_type": "code",
   "execution_count": 28,
   "id": "f5a5c59a",
   "metadata": {},
   "outputs": [],
   "source": [
    "#Get test data\n",
    "mat_data = scipy.io.loadmat(r\"C:\\Users\\Dell\\OneDrive\\Desktop\\himi\\btp\\dataverse_files\\purified_cric1\\test.mat\")\n",
    "mat_variable = mat_data['testdata']\n",
    "data_array = np.array(mat_variable)\n",
    "column_names = [f'C{i}' for i in range(1, data_array.shape[1] + 1)]\n",
    "test = pd.DataFrame(data_array, columns=column_names)\n",
    "test.rename(columns={'C10': 'Class_label'},inplace=True)"
   ]
  },
  {
   "cell_type": "code",
   "execution_count": 29,
   "id": "ad506bbf",
   "metadata": {},
   "outputs": [],
   "source": [
    "#import required libreries\n",
    "from __future__ import print_function\n",
    "from matplotlib import pyplot as plt\n",
    "import tensorflow as tf\n",
    "from tensorflow import keras\n",
    "from tensorflow.keras.models import Sequential\n",
    "from tensorflow.keras.layers import Dense, Dropout, Flatten, Reshape\n",
    "from tensorflow.keras.layers import Conv2D, MaxPooling2D,Activation\n",
    "from tensorflow import reshape\n",
    "from keras.utils import np_utils\n",
    "from tensorflow.keras.layers import Conv1D,Conv2D, MaxPooling1D,AveragePooling1D\n",
    "from tensorflow.keras.layers import SeparableConv1D\n",
    "from tensorflow.keras.layers import ZeroPadding2D,ZeroPadding1D, MaxPooling2D, Bidirectional\n",
    "from tensorflow.keras.regularizers import l2,l1\n",
    "from tensorflow.keras.layers import BatchNormalization\n",
    "from tensorflow.keras.callbacks import CSVLogger\n",
    "from tensorflow.keras.callbacks import EarlyStopping,ModelCheckpoint\n",
    "from scipy.io import loadmat\n",
    "import numpy as np\n",
    "import pandas as pd\n",
    "import seaborn as sns\n",
    "from numpy import mean\n",
    "from numpy import std\n",
    "import scipy.io\n",
    "from scipy import stats\n",
    "from IPython.display import display, HTML\n",
    "from tensorflow.keras import optimizers\n",
    "from tensorflow.keras.layers import LSTM\n",
    "from tensorflow.keras.layers import GRU, SimpleRNN\n",
    "from tensorflow.keras.layers import TimeDistributed\n",
    "from sklearn import metrics\n",
    "from sklearn.metrics import classification_report\n",
    "from sklearn import preprocessing"
   ]
  },
  {
   "cell_type": "code",
   "execution_count": 30,
   "id": "40989c42",
   "metadata": {
    "scrolled": true
   },
   "outputs": [
    {
     "data": {
      "text/plain": [
       "1.0    864000\n",
       "2.0    864000\n",
       "3.0    864000\n",
       "4.0    864000\n",
       "5.0    864000\n",
       "6.0    864000\n",
       "Name: Class_label, dtype: int64"
      ]
     },
     "execution_count": 30,
     "metadata": {},
     "output_type": "execute_result"
    }
   ],
   "source": [
    "train[\"Class_label\"].value_counts()"
   ]
  },
  {
   "cell_type": "code",
   "execution_count": 31,
   "id": "515b9ba0",
   "metadata": {
    "scrolled": true
   },
   "outputs": [
    {
     "data": {
      "text/plain": [
       "C1             False\n",
       "C2             False\n",
       "C3             False\n",
       "C4             False\n",
       "C5             False\n",
       "C6             False\n",
       "C7             False\n",
       "C8             False\n",
       "C9             False\n",
       "Class_label    False\n",
       "dtype: bool"
      ]
     },
     "execution_count": 31,
     "metadata": {},
     "output_type": "execute_result"
    }
   ],
   "source": [
    "train.isnull().any()"
   ]
  },
  {
   "cell_type": "code",
   "execution_count": 32,
   "id": "67f26bfe",
   "metadata": {},
   "outputs": [],
   "source": [
    "N_FEATURES=9"
   ]
  },
  {
   "cell_type": "code",
   "execution_count": 33,
   "id": "07ded4f1",
   "metadata": {},
   "outputs": [],
   "source": [
    "scaler = preprocessing.StandardScaler().fit(train.iloc[:,0:N_FEATURES])"
   ]
  },
  {
   "cell_type": "code",
   "execution_count": 34,
   "id": "9b6fbca4",
   "metadata": {},
   "outputs": [],
   "source": [
    "train.iloc[:,0:N_FEATURES]=scaler.transform(train.iloc[:,0:N_FEATURES])"
   ]
  },
  {
   "cell_type": "code",
   "execution_count": 35,
   "id": "ffac1720",
   "metadata": {},
   "outputs": [],
   "source": [
    "scaler = preprocessing.StandardScaler().fit(test.iloc[:,0:N_FEATURES])\n",
    "test.iloc[:,0:N_FEATURES]=scaler.transform(test.iloc[:,0:N_FEATURES])"
   ]
  },
  {
   "cell_type": "code",
   "execution_count": 36,
   "id": "0063ed3d",
   "metadata": {},
   "outputs": [
    {
     "data": {
      "text/html": [
       "<div>\n",
       "<style scoped>\n",
       "    .dataframe tbody tr th:only-of-type {\n",
       "        vertical-align: middle;\n",
       "    }\n",
       "\n",
       "    .dataframe tbody tr th {\n",
       "        vertical-align: top;\n",
       "    }\n",
       "\n",
       "    .dataframe thead th {\n",
       "        text-align: right;\n",
       "    }\n",
       "</style>\n",
       "<table border=\"1\" class=\"dataframe\">\n",
       "  <thead>\n",
       "    <tr style=\"text-align: right;\">\n",
       "      <th></th>\n",
       "      <th>C1</th>\n",
       "      <th>C2</th>\n",
       "      <th>C3</th>\n",
       "      <th>C4</th>\n",
       "      <th>C5</th>\n",
       "      <th>C6</th>\n",
       "      <th>C7</th>\n",
       "      <th>C8</th>\n",
       "      <th>C9</th>\n",
       "      <th>Class_label</th>\n",
       "    </tr>\n",
       "  </thead>\n",
       "  <tbody>\n",
       "    <tr>\n",
       "      <th>0</th>\n",
       "      <td>-0.030434</td>\n",
       "      <td>0.016899</td>\n",
       "      <td>0.019218</td>\n",
       "      <td>-0.027228</td>\n",
       "      <td>0.008080</td>\n",
       "      <td>0.008966</td>\n",
       "      <td>0.012622</td>\n",
       "      <td>-0.036836</td>\n",
       "      <td>-0.001935</td>\n",
       "      <td>1.0</td>\n",
       "    </tr>\n",
       "    <tr>\n",
       "      <th>1</th>\n",
       "      <td>-0.038076</td>\n",
       "      <td>0.024822</td>\n",
       "      <td>0.038545</td>\n",
       "      <td>-0.013680</td>\n",
       "      <td>0.010931</td>\n",
       "      <td>-0.010362</td>\n",
       "      <td>0.012622</td>\n",
       "      <td>-0.030883</td>\n",
       "      <td>-0.003558</td>\n",
       "      <td>1.0</td>\n",
       "    </tr>\n",
       "    <tr>\n",
       "      <th>2</th>\n",
       "      <td>-0.022791</td>\n",
       "      <td>0.008976</td>\n",
       "      <td>0.051429</td>\n",
       "      <td>-0.000132</td>\n",
       "      <td>0.015682</td>\n",
       "      <td>-0.029691</td>\n",
       "      <td>0.000145</td>\n",
       "      <td>-0.001118</td>\n",
       "      <td>-0.000312</td>\n",
       "      <td>1.0</td>\n",
       "    </tr>\n",
       "    <tr>\n",
       "      <th>3</th>\n",
       "      <td>0.000136</td>\n",
       "      <td>0.001053</td>\n",
       "      <td>0.032102</td>\n",
       "      <td>-0.000132</td>\n",
       "      <td>0.014732</td>\n",
       "      <td>-0.016805</td>\n",
       "      <td>-0.012331</td>\n",
       "      <td>0.004835</td>\n",
       "      <td>-0.000312</td>\n",
       "      <td>1.0</td>\n",
       "    </tr>\n",
       "    <tr>\n",
       "      <th>4</th>\n",
       "      <td>0.007778</td>\n",
       "      <td>-0.014793</td>\n",
       "      <td>0.006333</td>\n",
       "      <td>-0.006906</td>\n",
       "      <td>0.005229</td>\n",
       "      <td>0.002523</td>\n",
       "      <td>-0.012331</td>\n",
       "      <td>-0.001118</td>\n",
       "      <td>-0.000312</td>\n",
       "      <td>1.0</td>\n",
       "    </tr>\n",
       "  </tbody>\n",
       "</table>\n",
       "</div>"
      ],
      "text/plain": [
       "         C1        C2        C3        C4        C5        C6        C7  \\\n",
       "0 -0.030434  0.016899  0.019218 -0.027228  0.008080  0.008966  0.012622   \n",
       "1 -0.038076  0.024822  0.038545 -0.013680  0.010931 -0.010362  0.012622   \n",
       "2 -0.022791  0.008976  0.051429 -0.000132  0.015682 -0.029691  0.000145   \n",
       "3  0.000136  0.001053  0.032102 -0.000132  0.014732 -0.016805 -0.012331   \n",
       "4  0.007778 -0.014793  0.006333 -0.006906  0.005229  0.002523 -0.012331   \n",
       "\n",
       "         C8        C9  Class_label  \n",
       "0 -0.036836 -0.001935          1.0  \n",
       "1 -0.030883 -0.003558          1.0  \n",
       "2 -0.001118 -0.000312          1.0  \n",
       "3  0.004835 -0.000312          1.0  \n",
       "4 -0.001118 -0.000312          1.0  "
      ]
     },
     "execution_count": 36,
     "metadata": {},
     "output_type": "execute_result"
    }
   ],
   "source": [
    "train.head()"
   ]
  },
  {
   "cell_type": "code",
   "execution_count": 37,
   "id": "a2075b03",
   "metadata": {},
   "outputs": [],
   "source": [
    "TIME_PERIODS = 1000\n",
    "STEP_DISTANCE = 1000"
   ]
  },
  {
   "cell_type": "code",
   "execution_count": 38,
   "id": "969b4b2f",
   "metadata": {},
   "outputs": [],
   "source": [
    "def create_segments_and_labels(df, time_steps,step,n_features, label_name):\n",
    "    segments = []\n",
    "    labels = []\n",
    "    for i in range(0, len(df), step):\n",
    "      for j in range(1, n_features+1):\n",
    "        L = ('C'+str(j)) \n",
    "        segments.append(df[str(L)].values[i: i + time_steps])\n",
    "      label = stats.mode(df[label_name][i: i + time_steps])[0][0]\n",
    "      labels.append(label)\n",
    "    reshaped_segments = np.asarray(segments, dtype= np.float32).reshape(-1, time_steps, n_features)\n",
    "    labels = np.asarray(labels)\n",
    "    return reshaped_segments, labels"
   ]
  },
  {
   "cell_type": "code",
   "execution_count": 39,
   "id": "7598abee",
   "metadata": {},
   "outputs": [],
   "source": [
    "def step_decay(epoch):\n",
    "   initial_lrate = 1e-3\n",
    "   drop = 0.1\n",
    "   epochs_drop = 70.0\n",
    "   lrate = initial_lrate * tf.math.pow(drop,  \n",
    "           tf.math.floor((1+epoch)/epochs_drop))\n",
    "   return lrate"
   ]
  },
  {
   "cell_type": "code",
   "execution_count": 40,
   "id": "9cd7d2eb",
   "metadata": {},
   "outputs": [],
   "source": [
    "lrate = tf.keras.callbacks.LearningRateScheduler(step_decay)"
   ]
  },
  {
   "cell_type": "code",
   "execution_count": 41,
   "id": "0ebfc86d",
   "metadata": {},
   "outputs": [
    {
     "name": "stdout",
     "output_type": "stream",
     "text": [
      "df_train_size                C1        C2        C3        C4        C5        C6        C7  \\\n",
      "0       -0.030434  0.016899  0.019218 -0.027228  0.008080  0.008966  0.012622   \n",
      "1       -0.038076  0.024822  0.038545 -0.013680  0.010931 -0.010362  0.012622   \n",
      "2       -0.022791  0.008976  0.051429 -0.000132  0.015682 -0.029691  0.000145   \n",
      "3        0.000136  0.001053  0.032102 -0.000132  0.014732 -0.016805 -0.012331   \n",
      "4        0.007778 -0.014793  0.006333 -0.006906  0.005229  0.002523 -0.012331   \n",
      "...           ...       ...       ...       ...       ...       ...       ...   \n",
      "5183995 -0.099891 -0.031499  0.006333  0.090987  0.003385  0.009771 -0.093229   \n",
      "5183996 -0.054037 -0.015653  0.006333  0.080826  0.005286  0.003328 -0.211756   \n",
      "5183997 -0.023467  0.000194 -0.012994  0.060503  0.003385 -0.022443 -0.230471   \n",
      "5183998 -0.031110  0.023963 -0.012994  0.053729 -0.000416 -0.035329 -0.149373   \n",
      "5183999 -0.038752  0.023963  0.012775  0.070665 -0.003267 -0.022443 -0.074514   \n",
      "\n",
      "               C8        C9  Class_label  ActivityEncoded  \n",
      "0       -0.036836 -0.001935          1.0                0  \n",
      "1       -0.030883 -0.003558          1.0                0  \n",
      "2       -0.001118 -0.000312          1.0                0  \n",
      "3        0.004835 -0.000312          1.0                0  \n",
      "4       -0.001118 -0.000312          1.0                0  \n",
      "...           ...       ...          ...              ...  \n",
      "5183995  0.029266 -0.000243          6.0                5  \n",
      "5183996  0.035219 -0.000243          6.0                5  \n",
      "5183997  0.041171 -0.000243          6.0                5  \n",
      "5183998  0.023313 -0.000243          6.0                5  \n",
      "5183999 -0.006452 -0.000243          6.0                5  \n",
      "\n",
      "[5184000 rows x 11 columns]\n",
      "df_test_size          C1        C2        C3        C4        C5        C6   C7        C8  \\\n",
      "0       0.0 -0.002939 -0.000311  0.014764 -0.065679 -0.003397  0.0 -0.086582   \n",
      "1       0.0 -0.081461 -0.000311  0.000521 -0.052513  0.003155  0.0 -0.067350   \n",
      "2       0.0 -0.120722 -0.000311 -0.013723 -0.039347  0.019534  0.0 -0.086582   \n",
      "3       0.0 -0.094548 -0.000311 -0.006601 -0.026181  0.035914  0.0 -0.105815   \n",
      "4       0.0 -0.055287 -0.000311  0.029008 -0.019598  0.035914  0.0 -0.076966   \n",
      "...     ...       ...       ...       ...       ...       ...  ...       ...   \n",
      "575995  0.0  0.000560 -0.034177 -0.000138 -0.184171  0.006431  0.0  1.076992   \n",
      "575996  0.0  0.000560 -0.051254 -0.000138 -0.243418  0.032638  0.0  0.480781   \n",
      "575997  0.0  0.000560 -0.055523 -0.000138 -0.361910  0.055569  0.0 -0.057733   \n",
      "575998  0.0  0.000560 -0.068331 -0.000138 -0.440905  0.058845  0.0 -0.403921   \n",
      "575999  0.0  0.000560 -0.085408 -0.000138 -0.375076  0.052293  0.0 -0.577015   \n",
      "\n",
      "         C9  Class_label  ActivityEncoded  \n",
      "0       0.0          1.0                0  \n",
      "1       0.0          1.0                0  \n",
      "2       0.0          1.0                0  \n",
      "3       0.0          1.0                0  \n",
      "4       0.0          1.0                0  \n",
      "...     ...          ...              ...  \n",
      "575995  0.0          6.0                5  \n",
      "575996  0.0          6.0                5  \n",
      "575997  0.0          6.0                5  \n",
      "575998  0.0          6.0                5  \n",
      "575999  0.0          6.0                5  \n",
      "\n",
      "[576000 rows x 11 columns]\n"
     ]
    }
   ],
   "source": [
    "LABEL = 'ActivityEncoded'\n",
    "# Transform the labels from String to Integer via LabelEncoder\n",
    "le = preprocessing.LabelEncoder()\n",
    "# Add a new column to the existing DataFrame with the encoded values\n",
    "train[LABEL] = le.fit_transform(train['Class_label'].values.ravel())\n",
    "# df_Valid[LABEL] = le.fit_transform(df_Valid['Class_label'].values.ravel())\n",
    "test[LABEL] = le.fit_transform(test['Class_label'].values.ravel())\n",
    "print('df_train_size',train)\n",
    "# print('df_valid_size',df_Valid)\n",
    "print('df_test_size',test)"
   ]
  },
  {
   "cell_type": "code",
   "execution_count": 42,
   "id": "1cf3620f",
   "metadata": {
    "scrolled": true
   },
   "outputs": [
    {
     "name": "stderr",
     "output_type": "stream",
     "text": [
      "C:\\Users\\Dell\\AppData\\Local\\Temp\\ipykernel_21384\\3477890700.py:8: FutureWarning: Unlike other reduction functions (e.g. `skew`, `kurtosis`), the default behavior of `mode` typically preserves the axis it acts along. In SciPy 1.11.0, this behavior will change: the default value of `keepdims` will become False, the `axis` over which the statistic is taken will be eliminated, and the value None will no longer be accepted. Set `keepdims` to True or False to avoid this warning.\n",
      "  label = stats.mode(df[label_name][i: i + time_steps])[0][0]\n"
     ]
    },
    {
     "name": "stdout",
     "output_type": "stream",
     "text": [
      "x_train shape:  (5184, 1000, 9)\n",
      "5184 training samples\n",
      "y_train shape:  (5184,)\n",
      "1000\n",
      "9\n",
      "[1.0, 2.0, 3.0, 4.0, 5.0, 6.0]\n",
      "x_train shape: (1000, 9)\n",
      "input_shape: (1000, 9)\n",
      "[[1. 0. 0. 0. 0. 0.]\n",
      " [1. 0. 0. 0. 0. 0.]\n",
      " [1. 0. 0. 0. 0. 0.]\n",
      " ...\n",
      " [0. 0. 0. 0. 0. 1.]\n",
      " [0. 0. 0. 0. 0. 1.]\n",
      " [0. 0. 0. 0. 0. 1.]]\n",
      "New y_train shape:  (5184, 6)\n"
     ]
    }
   ],
   "source": [
    "x_train, y_train = create_segments_and_labels(train,TIME_PERIODS,STEP_DISTANCE,N_FEATURES,LABEL)\n",
    "print('x_train shape: ', x_train.shape)\n",
    "# print(x_train)\n",
    "print(x_train.shape[0], 'training samples')\n",
    "print('y_train shape: ', y_train.shape)\n",
    "# Set input & output dimensions\n",
    "num_time_periods, num_sensors = x_train.shape[1], x_train.shape[2]\n",
    "print(num_time_periods)\n",
    "print(num_sensors)\n",
    "num_classes = le.classes_.size\n",
    "print(list(le.classes_))\n",
    "# input_shape = (num_time_periods,num_sensors)\n",
    "# print(input_shape)\n",
    "input_shape = (num_time_periods,num_sensors)\n",
    "#x_train = x_train.reshape(x_train.shape[0], input_shape)\n",
    "print('x_train shape:', x_train[0].shape)\n",
    "print('input_shape:', input_shape)\n",
    "x_train = x_train.astype('float32')\n",
    "# x_train = [torch.tensor(arr, dtype=torch.float32) for arr in x_train]\n",
    "# y_train = y_train.astype('float32')\n",
    "# print(y_train)\n",
    "y_train_hot = np_utils.to_categorical(y_train, num_classes)\n",
    "print(y_train_hot)\n",
    "# y_train_hot= [torch.tensor(arr, dtype=torch.uint8) for arr in y_train_hot]\n",
    "print('New y_train shape: ', y_train_hot.shape)"
   ]
  },
  {
   "cell_type": "code",
   "execution_count": 43,
   "id": "6f88f1ef",
   "metadata": {},
   "outputs": [
    {
     "name": "stdout",
     "output_type": "stream",
     "text": [
      "x_test shape:  (576, 1000, 9)\n",
      "576 testing samples\n",
      "y_test shape:  (576,)\n"
     ]
    },
    {
     "name": "stderr",
     "output_type": "stream",
     "text": [
      "C:\\Users\\Dell\\AppData\\Local\\Temp\\ipykernel_21384\\3477890700.py:8: FutureWarning: Unlike other reduction functions (e.g. `skew`, `kurtosis`), the default behavior of `mode` typically preserves the axis it acts along. In SciPy 1.11.0, this behavior will change: the default value of `keepdims` will become False, the `axis` over which the statistic is taken will be eliminated, and the value None will no longer be accepted. Set `keepdims` to True or False to avoid this warning.\n",
      "  label = stats.mode(df[label_name][i: i + time_steps])[0][0]\n"
     ]
    }
   ],
   "source": [
    "x_test, y_test = create_segments_and_labels(test,TIME_PERIODS,STEP_DISTANCE,N_FEATURES,LABEL)\n",
    "print('x_test shape: ', x_test.shape)\n",
    "# print(x_train)\n",
    "print(x_test.shape[0], 'testing samples')\n",
    "print('y_test shape: ', y_test.shape)\n",
    "# Set input_shape / reshape for Keras\n",
    "#x_test = x_test.reshape(x_test.shape[0], input_shape)\n",
    "x_test = x_test.astype('float32')\n",
    "y_test = y_test.astype('float32')\n",
    "y_test_hot = np_utils.to_categorical(y_test, num_classes)"
   ]
  },
  {
   "cell_type": "code",
   "execution_count": 44,
   "id": "820fd7da",
   "metadata": {},
   "outputs": [
    {
     "name": "stdout",
     "output_type": "stream",
     "text": [
      "x_train shape:  (5184, 40, 25, 9)\n",
      "x_test shape:  (576, 40, 25, 9)\n",
      "n_outputs 6\n"
     ]
    }
   ],
   "source": [
    "n_steps, n_length = 40,25\n",
    "n_depth=9\n",
    "x_train = x_train.reshape(x_train.shape[0], n_steps, n_length,n_depth)\n",
    "print('x_train shape: ', x_train.shape)\n",
    "# x_valid = x_valid.reshape(x_valid.shape[0], n_steps, n_length, n_depth)\n",
    "# print('x_valid shape: ', x_valid.shape)\n",
    "x_test = x_test.reshape(x_test.shape[0], n_steps, n_length,n_depth)\n",
    "print('x_test shape: ', x_test.shape)\n",
    "n_outputs = y_train_hot.shape[1]\n",
    "print('n_outputs',n_outputs)"
   ]
  },
  {
   "cell_type": "code",
   "execution_count": 45,
   "id": "8acf313a",
   "metadata": {},
   "outputs": [
    {
     "name": "stdout",
     "output_type": "stream",
     "text": [
      "[1, 2, 3, 4, 5, 6]\n"
     ]
    }
   ],
   "source": [
    "LABELS=[]\n",
    "for i in range(1,n_outputs+1,1):\n",
    "  LABELS.append (i)\n",
    "print(LABELS)"
   ]
  },
  {
   "cell_type": "code",
   "execution_count": 46,
   "id": "216fc83a",
   "metadata": {},
   "outputs": [],
   "source": [
    "verbose, epochs, batch_size = 0, 100, 8"
   ]
  },
  {
   "cell_type": "code",
   "execution_count": 47,
   "id": "a48aba99",
   "metadata": {},
   "outputs": [],
   "source": [
    "model = Sequential()\n",
    "model.add(TimeDistributed(Conv1D(filters=64, kernel_size=9, padding='same', kernel_initializer=\"he_normal\",strides=2,kernel_regularizer=l1(1e-04)), \\\n",
    "                           input_shape=(n_steps,n_length,n_depth)))\n",
    "model.add(TimeDistributed(BatchNormalization(epsilon=1e-06, momentum=0.95, weights=None)))\n",
    "model.add(TimeDistributed(MaxPooling1D(pool_size=8,strides=2)))\n",
    "model.add(TimeDistributed(Activation('tanh')))\n",
    "model.add(TimeDistributed(Conv1D(filters=64, kernel_size=5,padding=\"same\",kernel_initializer=\"he_normal\",strides=2,kernel_regularizer=l1(1e-04))))\n",
    "model.add(TimeDistributed(BatchNormalization(epsilon=1e-06, momentum=0.95, weights=None)))\n",
    "model.add(TimeDistributed(Activation('tanh')))\n",
    "model.add(TimeDistributed(Dropout(0.2093)))\n",
    "model.add(TimeDistributed(Conv1D(filters=64, kernel_size=5,padding=\"same\",kernel_initializer=\"he_normal\",strides=2,kernel_regularizer=l1(1e-04))))\n",
    "model.add(TimeDistributed(BatchNormalization(epsilon=1e-06, momentum=0.95, weights=None)))\n",
    "model.add(TimeDistributed(Activation('tanh')))\n",
    "model.add(TimeDistributed(Dropout(0.2093)))\n",
    "model.add(TimeDistributed(Conv1D(filters=64, kernel_size=3,padding=\"same\",kernel_initializer=\"he_normal\",strides=2,kernel_regularizer=l1(1e-04))))\n",
    "model.add(TimeDistributed(BatchNormalization(epsilon=1e-06, momentum=0.95, weights=None)))\n",
    "model.add(TimeDistributed(Activation('tanh')))\n",
    "model.add(TimeDistributed(Dropout(0.2093)))\n",
    "model.add(TimeDistributed(Activation('relu')))\n",
    "model.add(TimeDistributed(Flatten()))\n",
    "# model.add(Flatten())\n",
    "model.add(Bidirectional(LSTM(200,return_sequences=True)))\n",
    "model.add(Dropout(0.3))\n",
    "model.add(Bidirectional(LSTM(200,return_sequences=True)))\n",
    "model.add(Dropout(0.3))\n",
    "model.add(Flatten())\n",
    "# model.add(Bidirectional(LSTM(200,return_sequences=True)))\n",
    "# model.add(Dropout(0.3))\n",
    "# model.add(Bidirectional(LSTM(200,return_sequences=True)))\n",
    "# model.add(Dropout(0.3))\n",
    "# model.add(Flatten())\n",
    "# model.add(BatchNormalization(epsilon=1e-06, momentum=0.9, weights=None))\n",
    "# model.add(Bidirectional(LSTM(200)))\n",
    "# model.add(Dropout(0.3))\n",
    "model.add(Dense(2000, activation='tanh'))\n",
    "model.add(Dense(512, activation='tanh'))\n",
    "# model.add(Dense(200, activation='tanh'))\n",
    "model.add(BatchNormalization(epsilon=1e-06, momentum=0.9, weights=None))\n",
    "model.add(Dense(n_outputs, activation='softmax'))"
   ]
  },
  {
   "cell_type": "code",
   "execution_count": 48,
   "id": "e9e14150",
   "metadata": {},
   "outputs": [
    {
     "name": "stderr",
     "output_type": "stream",
     "text": [
      "WARNING:absl:`lr` is deprecated in Keras optimizer, please use `learning_rate` or use the legacy optimizer, e.g.,tf.keras.optimizers.legacy.Adam.\n"
     ]
    },
    {
     "name": "stdout",
     "output_type": "stream",
     "text": [
      "Model: \"sequential_1\"\n",
      "_________________________________________________________________\n",
      " Layer (type)                Output Shape              Param #   \n",
      "=================================================================\n",
      " time_distributed_18 (TimeDi  (None, 40, 13, 64)       5248      \n",
      " stributed)                                                      \n",
      "                                                                 \n",
      " time_distributed_19 (TimeDi  (None, 40, 13, 64)       256       \n",
      " stributed)                                                      \n",
      "                                                                 \n",
      " time_distributed_20 (TimeDi  (None, 40, 3, 64)        0         \n",
      " stributed)                                                      \n",
      "                                                                 \n",
      " time_distributed_21 (TimeDi  (None, 40, 3, 64)        0         \n",
      " stributed)                                                      \n",
      "                                                                 \n",
      " time_distributed_22 (TimeDi  (None, 40, 2, 64)        20544     \n",
      " stributed)                                                      \n",
      "                                                                 \n",
      " time_distributed_23 (TimeDi  (None, 40, 2, 64)        256       \n",
      " stributed)                                                      \n",
      "                                                                 \n",
      " time_distributed_24 (TimeDi  (None, 40, 2, 64)        0         \n",
      " stributed)                                                      \n",
      "                                                                 \n",
      " time_distributed_25 (TimeDi  (None, 40, 2, 64)        0         \n",
      " stributed)                                                      \n",
      "                                                                 \n",
      " time_distributed_26 (TimeDi  (None, 40, 1, 64)        20544     \n",
      " stributed)                                                      \n",
      "                                                                 \n",
      " time_distributed_27 (TimeDi  (None, 40, 1, 64)        256       \n",
      " stributed)                                                      \n",
      "                                                                 \n",
      " time_distributed_28 (TimeDi  (None, 40, 1, 64)        0         \n",
      " stributed)                                                      \n",
      "                                                                 \n",
      " time_distributed_29 (TimeDi  (None, 40, 1, 64)        0         \n",
      " stributed)                                                      \n",
      "                                                                 \n",
      " time_distributed_30 (TimeDi  (None, 40, 1, 64)        12352     \n",
      " stributed)                                                      \n",
      "                                                                 \n",
      " time_distributed_31 (TimeDi  (None, 40, 1, 64)        256       \n",
      " stributed)                                                      \n",
      "                                                                 \n",
      " time_distributed_32 (TimeDi  (None, 40, 1, 64)        0         \n",
      " stributed)                                                      \n",
      "                                                                 \n",
      " time_distributed_33 (TimeDi  (None, 40, 1, 64)        0         \n",
      " stributed)                                                      \n",
      "                                                                 \n",
      " time_distributed_34 (TimeDi  (None, 40, 1, 64)        0         \n",
      " stributed)                                                      \n",
      "                                                                 \n",
      " time_distributed_35 (TimeDi  (None, 40, 64)           0         \n",
      " stributed)                                                      \n",
      "                                                                 \n",
      " bidirectional_2 (Bidirectio  (None, 40, 400)          424000    \n",
      " nal)                                                            \n",
      "                                                                 \n",
      " bidirectional_3 (Bidirectio  (None, 40, 400)          961600    \n",
      " nal)                                                            \n",
      "                                                                 \n",
      " flatten_3 (Flatten)         (None, 16000)             0         \n",
      "                                                                 \n",
      " dense_3 (Dense)             (None, 2000)              32002000  \n",
      "                                                                 \n",
      " dense_4 (Dense)             (None, 512)               1024512   \n",
      "                                                                 \n",
      " batch_normalization_9 (Batc  (None, 512)              2048      \n",
      " hNormalization)                                                 \n",
      "                                                                 \n",
      " dense_5 (Dense)             (None, 6)                 3078      \n",
      "                                                                 \n",
      "=================================================================\n",
      "Total params: 34,476,950\n",
      "Trainable params: 34,475,414\n",
      "Non-trainable params: 1,536\n",
      "_________________________________________________________________\n",
      "None\n"
     ]
    }
   ],
   "source": [
    "adam=optimizers.Adam(lr=1e-3, beta_1=0.9, beta_2=0.999, amsgrad=False)\n",
    "checkpoint_filepath = '/media/naveen/nav/mat_codes/nina_DB2_codes/prep_no_prep/CNN100X100/checkpoint.hdf5'\n",
    "# model.load_weights(checkpoint_filepath) \n",
    "checkpoint_callback = ModelCheckpoint(filepath=checkpoint_filepath,verbose=1, monitor='val_accuracy',save_weights_only=True,save_best_only=True)\n",
    "early = EarlyStopping(monitor='val_loss', min_delta=0, patience=75, verbose=0, mode='auto', baseline=None, restore_best_weights=True)\n",
    "model.compile(optimizer=adam,loss='categorical_crossentropy',metrics=['accuracy'])\n",
    "print(model.summary())"
   ]
  },
  {
   "cell_type": "code",
   "execution_count": 49,
   "id": "02481b34",
   "metadata": {},
   "outputs": [
    {
     "name": "stdout",
     "output_type": "stream",
     "text": [
      "[1, 2, 3, 4, 5, 6]\n"
     ]
    }
   ],
   "source": [
    "LABELS=[]\n",
    "for i in range(1,n_outputs+1,1):\n",
    "  LABELS.append (i)\n",
    "print(LABELS)"
   ]
  },
  {
   "cell_type": "code",
   "execution_count": null,
   "id": "376c1e9d",
   "metadata": {},
   "outputs": [
    {
     "name": "stdout",
     "output_type": "stream",
     "text": [
      "Epoch 1/100\n",
      "648/648 [==============================] - ETA: 0s - loss: 2.1337 - accuracy: 0.1590\n",
      "Epoch 1: val_accuracy improved from -inf to 0.16667, saving model to /media/naveen/nav/mat_codes/nina_DB2_codes/prep_no_prep/CNN100X100\\checkpoint.hdf5\n",
      "648/648 [==============================] - 411s 616ms/step - loss: 2.1337 - accuracy: 0.1590 - val_loss: 2.0640 - val_accuracy: 0.1667 - lr: 0.0010\n",
      "Epoch 2/100\n",
      "648/648 [==============================] - ETA: 0s - loss: 2.0494 - accuracy: 0.1618\n",
      "Epoch 2: val_accuracy did not improve from 0.16667\n",
      "648/648 [==============================] - 373s 575ms/step - loss: 2.0494 - accuracy: 0.1618 - val_loss: 2.1735 - val_accuracy: 0.1667 - lr: 0.0010\n",
      "Epoch 3/100\n",
      "648/648 [==============================] - ETA: 0s - loss: 2.0079 - accuracy: 0.1570\n",
      "Epoch 3: val_accuracy did not improve from 0.16667\n",
      "648/648 [==============================] - 364s 562ms/step - loss: 2.0079 - accuracy: 0.1570 - val_loss: 1.9840 - val_accuracy: 0.1667 - lr: 0.0010\n",
      "Epoch 4/100\n",
      "648/648 [==============================] - ETA: 0s - loss: 1.9590 - accuracy: 0.1659\n",
      "Epoch 4: val_accuracy did not improve from 0.16667\n",
      "648/648 [==============================] - 4073s 6s/step - loss: 1.9590 - accuracy: 0.1659 - val_loss: 1.9377 - val_accuracy: 0.1667 - lr: 0.0010\n",
      "Epoch 5/100\n",
      "648/648 [==============================] - ETA: 0s - loss: 1.9099 - accuracy: 0.1630\n",
      "Epoch 5: val_accuracy did not improve from 0.16667\n",
      "648/648 [==============================] - 421s 650ms/step - loss: 1.9099 - accuracy: 0.1630 - val_loss: 53.2511 - val_accuracy: 0.1667 - lr: 0.0010\n",
      "Epoch 6/100\n",
      "648/648 [==============================] - ETA: 0s - loss: 1.8672 - accuracy: 0.1559\n",
      "Epoch 6: val_accuracy did not improve from 0.16667\n",
      "648/648 [==============================] - 397s 613ms/step - loss: 1.8672 - accuracy: 0.1559 - val_loss: 1.8637 - val_accuracy: 0.1667 - lr: 0.0010\n",
      "Epoch 7/100\n",
      "648/648 [==============================] - ETA: 0s - loss: 1.8324 - accuracy: 0.1682\n",
      "Epoch 7: val_accuracy did not improve from 0.16667\n",
      "648/648 [==============================] - 399s 616ms/step - loss: 1.8324 - accuracy: 0.1682 - val_loss: 1.8183 - val_accuracy: 0.1667 - lr: 0.0010\n",
      "Epoch 8/100\n",
      "648/648 [==============================] - ETA: 0s - loss: 1.8100 - accuracy: 0.1649\n",
      "Epoch 8: val_accuracy did not improve from 0.16667\n",
      "648/648 [==============================] - 501s 773ms/step - loss: 1.8100 - accuracy: 0.1649 - val_loss: 1.8032 - val_accuracy: 0.1667 - lr: 0.0010\n",
      "Epoch 9/100\n",
      "182/648 [=======>......................] - ETA: 5:19 - loss: 1.8025 - accuracy: 0.1587"
     ]
    }
   ],
   "source": [
    "csv_logger = CSVLogger(r'C:\\Users\\Dell\\OneDrive\\Desktop\\himi\\btp\\dataverse_files\\purified_cric1\\telidu.csv', append=True, separator=';')\n",
    "history = model.fit(x_train, y_train_hot, epochs=epochs, batch_size=batch_size, callbacks=[csv_logger,checkpoint_callback,lrate],validation_data=(x_test, y_test_hot), verbose=1)"
   ]
  },
  {
   "cell_type": "code",
   "execution_count": null,
   "id": "5dbd6fcc",
   "metadata": {},
   "outputs": [],
   "source": []
  }
 ],
 "metadata": {
  "kernelspec": {
   "display_name": "Python 3 (ipykernel)",
   "language": "python",
   "name": "python3"
  },
  "language_info": {
   "codemirror_mode": {
    "name": "ipython",
    "version": 3
   },
   "file_extension": ".py",
   "mimetype": "text/x-python",
   "name": "python",
   "nbconvert_exporter": "python",
   "pygments_lexer": "ipython3",
   "version": "3.9.13"
  }
 },
 "nbformat": 4,
 "nbformat_minor": 5
}
